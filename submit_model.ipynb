{
 "cells": [
  {
   "cell_type": "code",
   "execution_count": null,
   "metadata": {},
   "outputs": [],
   "source": [
    "from geodesic.tesseract import Job, AssetSpec, Step, Container, StepInput, StepOutput, TemporalBinning"
   ]
  },
  {
   "cell_type": "code",
   "execution_count": null,
   "metadata": {},
   "outputs": [],
   "source": [
    "job = Job(\n",
    "    alias=\"Test Job\",\n",
    "    description=f\"VIIRS Nighttime Test\",\n",
    "    global_properties=GlobalProperties(\n",
    "        pixel_size=[2000.0, 2000.0],                           \n",
    "        chip_size=2000\n",
    "    ),\n",
    "    bbox=bbox,                                       \n",
    "    bbox_epsg=4326,                                 \n",
    "    output_epsg=3857,\n",
    "    asset_specs=[\n",
    "        AssetSpec(\n",
    "            name=\"viirs\",                       \n",
    "            dataset=\"viirs-monthly\",           \n",
    "            datetime=[\n",
    "                '2020-07-01T00:00:00',              \n",
    "                '2021-07-01T00:00:00'\n",
    "            ],\n",
    "            assets=['monthly_average_radiance'],                \n",
    "            pixel_type=np.float32,                   \n",
    "            resample='cubicspline',                 \n",
    "            input_no_data=['nan'],                                  \n",
    "            temporal_binning=TemporalBinning(       \n",
    "                user=User(bins=bins)\n",
    "            )\n",
    "        )\n",
    "    ],\n",
    "    steps=[\n",
    "        Step(\n",
    "            name=\"test\",\n",
    "            type=\"model\",\n",
    "            container=Container(\n",
    "                repository=\"gcr.io/double-catfish-291717\",\n",
    "                image=\"tesseract-identity-model\",\n",
    "                tag=\"v0.0.1\"\n",
    "            ),\n",
    "            gpu=True,\n",
    "            inputs=[\n",
    "                StepInput(\n",
    "                    asset_name=\"viirs\",\n",
    "                    chunk_shape=(12, 1, 39, 36),\n",
    "                    type=\"tensor\",\n",
    "                )\n",
    "            ],\n",
    "            outputs=[\n",
    "                StepOutput(\n",
    "                    asset_name=\"identity\",\n",
    "                    chunk_shape=(12, 1, 39, 36),\n",
    "                    type=\"tensor\",\n",
    "                    pixel_dtype=np.float32,\n",
    "                    fill_value=\"nan\"\n",
    "                ),\n",
    "                StepOutput(\n",
    "                    asset_name=\"count\",\n",
    "                    chunk_shape=(1, 1, 1, 1),\n",
    "                    type=\"tensor\",\n",
    "                    pixel_dtype=np.float32,\n",
    "                    fill_value=\"nan\"\n",
    "                )\n",
    "            ]\n",
    "        ),\n",
    "    ],\n",
    "    workers=1\n",
    ")"
   ]
  }
 ],
 "metadata": {
  "kernelspec": {
   "display_name": "Python 3.7.13 ('roadmodel')",
   "language": "python",
   "name": "python3"
  },
  "language_info": {
   "name": "python",
   "version": "3.7.13"
  },
  "orig_nbformat": 4,
  "vscode": {
   "interpreter": {
    "hash": "0c7ae885b7d96b9d94a930c22f58028fa58234081cee8712ef18403323598427"
   }
  }
 },
 "nbformat": 4,
 "nbformat_minor": 2
}
