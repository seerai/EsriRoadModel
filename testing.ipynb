{
 "cells": [
  {
   "cell_type": "code",
   "execution_count": 23,
   "id": "8967f26c-6ff9-4ecf-bd8e-2460dfc9faa0",
   "metadata": {},
   "outputs": [],
   "source": [
    "from road_model.ArcGISImageClassifier import ArcGISImageClassifier\n",
    "from road_model._road_inference import ChildImageClassifier\n",
    "import numpy as np\n",
    "import torch"
   ]
  },
  {
   "cell_type": "code",
   "execution_count": 24,
   "id": "a5cf1a09-94b1-4019-8ddb-335c0f36e543",
   "metadata": {},
   "outputs": [],
   "source": [
    "# cls = ArcGISImageClassifier()\n",
    "cls = ChildImageClassifier()"
   ]
  },
  {
   "cell_type": "code",
   "execution_count": 26,
   "id": "3ccc120b",
   "metadata": {},
   "outputs": [
    {
     "name": "stderr",
     "output_type": "stream",
     "text": [
      "The Hourglass model does not support user specified backbones. The backbone parameter will be ignored.\n"
     ]
    }
   ],
   "source": [
    "cls.initialize(model=\"road_model/RoadsExtraction_NorthAmerica.emd\", model_as_file=True)"
   ]
  },
  {
   "cell_type": "code",
   "execution_count": 28,
   "id": "32854b42",
   "metadata": {},
   "outputs": [
    {
     "name": "stdout",
     "output_type": "stream",
     "text": [
      "torch.Size([6, 3, 256, 256])\n",
      "torch.Size([6, 2, 256, 256])\n",
      "torch.Size([6, 19, 256, 256])\n"
     ]
    }
   ],
   "source": [
    "inputs = torch.randn(6,3,256, 256)\n",
    "print(f\"{inputs.size()}\")\n",
    "\n",
    "# torch.onnx.export(\n",
    "#     cls.child_image_classifier.model,\n",
    "#     inputs,\n",
    "#     \"test_model.onnx\",\n",
    "#     export_params=True,\n",
    "#     input_names = ['input'],\n",
    "#     output_names = ['output'],\n",
    "#     dynamic_axes={\n",
    "#         'input': {\n",
    "#             0: 'batch_size',\n",
    "#             2: 'x',\n",
    "#             3: 'y'\n",
    "#         },\n",
    "#         'output': {\n",
    "#             0: 'batch_size',\n",
    "#             2: 'x',\n",
    "#             3: 'y'\n",
    "#         }\n",
    "#     }\n",
    "# )\n",
    "\n",
    "output, another = cls.model(inputs)\n",
    "print(f\"{output.size()}\")\n",
    "print(f\"{another.size()}\")"
   ]
  },
  {
   "cell_type": "code",
   "execution_count": 10,
   "id": "4de8336c",
   "metadata": {},
   "outputs": [],
   "source": [
    "from geotiff import GeoTiff\n",
    "import numpy as np\n",
    "import matplotlib.pyplot as plt"
   ]
  },
  {
   "cell_type": "code",
   "execution_count": 2,
   "id": "2c51a0cb",
   "metadata": {},
   "outputs": [],
   "source": [
    "gt = GeoTiff(\"./data/paci2.tif\")"
   ]
  },
  {
   "cell_type": "code",
   "execution_count": 3,
   "id": "dbcac19f",
   "metadata": {},
   "outputs": [],
   "source": [
    "za = gt.read()"
   ]
  },
  {
   "cell_type": "code",
   "execution_count": 4,
   "id": "d0dfd6ed",
   "metadata": {},
   "outputs": [
    {
     "data": {
      "text/html": [
       "<table class=\"zarr-info\"><tbody><tr><th style=\"text-align: left\">Type</th><td style=\"text-align: left\">zarr.core.Array</td></tr><tr><th style=\"text-align: left\">Data type</th><td style=\"text-align: left\">uint8</td></tr><tr><th style=\"text-align: left\">Shape</th><td style=\"text-align: left\">(3393, 4622, 4)</td></tr><tr><th style=\"text-align: left\">Chunk shape</th><td style=\"text-align: left\">(128, 128, 4)</td></tr><tr><th style=\"text-align: left\">Order</th><td style=\"text-align: left\">C</td></tr><tr><th style=\"text-align: left\">Read-only</th><td style=\"text-align: left\">True</td></tr><tr><th style=\"text-align: left\">Compressor</th><td style=\"text-align: left\">None</td></tr><tr><th style=\"text-align: left\">Store type</th><td style=\"text-align: left\">zarr.storage.KVStore</td></tr><tr><th style=\"text-align: left\">No. bytes</th><td style=\"text-align: left\">62729784 (59.8M)</td></tr><tr><th style=\"text-align: left\">No. bytes stored</th><td style=\"text-align: left\">185</td></tr><tr><th style=\"text-align: left\">Storage ratio</th><td style=\"text-align: left\">339079.9</td></tr><tr><th style=\"text-align: left\">Chunks initialized</th><td style=\"text-align: left\">0/999</td></tr></tbody></table>"
      ],
      "text/plain": [
       "Type               : zarr.core.Array\n",
       "Data type          : uint8\n",
       "Shape              : (3393, 4622, 4)\n",
       "Chunk shape        : (128, 128, 4)\n",
       "Order              : C\n",
       "Read-only          : True\n",
       "Compressor         : None\n",
       "Store type         : zarr.storage.KVStore\n",
       "No. bytes          : 62729784 (59.8M)\n",
       "No. bytes stored   : 185\n",
       "Storage ratio      : 339079.9\n",
       "Chunks initialized : 0/999"
      ]
     },
     "execution_count": 4,
     "metadata": {},
     "output_type": "execute_result"
    }
   ],
   "source": [
    "za.info"
   ]
  },
  {
   "cell_type": "code",
   "execution_count": 6,
   "id": "4a9d346f",
   "metadata": {},
   "outputs": [],
   "source": [
    "ar = np.array(za)"
   ]
  },
  {
   "cell_type": "code",
   "execution_count": null,
   "id": "59029f11",
   "metadata": {},
   "outputs": [],
   "source": []
  }
 ],
 "metadata": {
  "kernelspec": {
   "display_name": "Python 3.7.13 ('roadmodel')",
   "language": "python",
   "name": "python3"
  },
  "language_info": {
   "codemirror_mode": {
    "name": "ipython",
    "version": 3
   },
   "file_extension": ".py",
   "mimetype": "text/x-python",
   "name": "python",
   "nbconvert_exporter": "python",
   "pygments_lexer": "ipython3",
   "version": "3.7.13"
  },
  "vscode": {
   "interpreter": {
    "hash": "0c7ae885b7d96b9d94a930c22f58028fa58234081cee8712ef18403323598427"
   }
  }
 },
 "nbformat": 4,
 "nbformat_minor": 5
}
